{
 "cells": [
  {
   "cell_type": "code",
   "execution_count": null,
   "id": "822e100a-8437-4831-b44a-2b0c12c7a8b8",
   "metadata": {},
   "outputs": [],
   "source": [
    "import pandas as pd\n",
    "import numpy as np\n",
    "import matplotlib.pyplot as plt\n",
    "import seaborn as sns"
   ]
  },
  {
   "cell_type": "code",
   "execution_count": null,
   "id": "8d5ee8c7-fda6-4227-a203-7b697f1f4c72",
   "metadata": {},
   "outputs": [],
   "source": [
    "gdp_df = pd.read_csv('../data/gdp_percapita.csv')"
   ]
  },
  {
   "cell_type": "code",
   "execution_count": null,
   "id": "8fed82a3-d7d9-46b9-9fe0-209e152ec61b",
   "metadata": {},
   "outputs": [],
   "source": [
    "gdp_df.head(2)"
   ]
  },
  {
   "cell_type": "code",
   "execution_count": null,
   "id": "a5616ec4-f477-497d-86a3-05a8b37f995a",
   "metadata": {},
   "outputs": [],
   "source": [
    "5. How many rows and columns are in gdp_df? What are the data types of each column?"
   ]
  },
  {
   "cell_type": "code",
   "execution_count": null,
   "id": "b326fedf-cdbb-46db-b58e-db7b2020122e",
   "metadata": {},
   "outputs": [],
   "source": [
    "gdp_df.shape"
   ]
  },
  {
   "cell_type": "code",
   "execution_count": null,
   "id": "b018ffd3-4829-4ff7-8d03-c4e44a9c9158",
   "metadata": {},
   "outputs": [],
   "source": [
    "gdp_df = gdp_df.drop(columns = ['Value Footnotes'])"
   ]
  },
  {
   "cell_type": "code",
   "execution_count": null,
   "id": "7eaa7de6-3acc-4c9a-82a1-6bb4b726a2f4",
   "metadata": {},
   "outputs": [],
   "source": [
    "gdp_df.columns = ['Country','Year','GDP_Per_Capita']"
   ]
  },
  {
   "cell_type": "code",
   "execution_count": null,
   "id": "9c85c68a-026e-45bf-8aeb-f579bffc1ea3",
   "metadata": {},
   "outputs": [],
   "source": [
    "gdp_df"
   ]
  },
  {
   "cell_type": "code",
   "execution_count": null,
   "id": "9f9b9768-e8db-4c5f-b5e2-b64e688cd768",
   "metadata": {},
   "outputs": [],
   "source": [
    "gdp_count_country = gdp_df.Country.value_counts()"
   ]
  },
  {
   "cell_type": "code",
   "execution_count": null,
   "id": "ebf6fa37-7055-4a74-aecb-509b08676755",
   "metadata": {},
   "outputs": [],
   "source": [
    "gdp_count_country"
   ]
  },
  {
   "cell_type": "code",
   "execution_count": null,
   "id": "c7f81c11-dae3-4bd2-83b1-d5705068bdc1",
   "metadata": {},
   "outputs": [],
   "source": [
    "gdp_count_country.to_frame()"
   ]
  },
  {
   "cell_type": "code",
   "execution_count": null,
   "id": "4c26e2dc-6864-43dd-9067-517709b11c83",
   "metadata": {},
   "outputs": [],
   "source": [
    "gdp_count_country = gdp_count_country.reset_index()"
   ]
  },
  {
   "cell_type": "code",
   "execution_count": null,
   "id": "c9896bc8-71bc-4f51-b822-226a00292a3f",
   "metadata": {},
   "outputs": [],
   "source": [
    "gdp_count_country.sort_values( by = 'count', ascending = False)"
   ]
  },
  {
   "cell_type": "code",
   "execution_count": null,
   "id": "ac284ef6-f5b9-4d74-af0c-cb563a12cc42",
   "metadata": {},
   "outputs": [],
   "source": [
    "gdp_count_country = gdp_count_country.reset_index(drop = True)"
   ]
  },
  {
   "cell_type": "code",
   "execution_count": null,
   "id": "b4ff5a2f-2f37-4526-88a5-3e7e1b7ec987",
   "metadata": {},
   "outputs": [],
   "source": [
    "gdp_count_country_all_years = gdp_count_country.loc[gdp_count_country['count'] >32]\n"
   ]
  },
  {
   "cell_type": "code",
   "execution_count": null,
   "id": "8fd60fae-4434-417d-b96a-b4f12fcc6965",
   "metadata": {},
   "outputs": [],
   "source": [
    "gdp_count_country_all_years.count()"
   ]
  },
  {
   "cell_type": "code",
   "execution_count": null,
   "id": "1364e460-97c5-48bb-93f1-fb4ba7b6f112",
   "metadata": {},
   "outputs": [],
   "source": [
    "gdp_count_country_missing_years = gdp_count_country.loc[gdp_count_country['count'] <33]"
   ]
  },
  {
   "cell_type": "code",
   "execution_count": null,
   "id": "1dd6c3dd-45af-4021-8730-c90ad83c4452",
   "metadata": {},
   "outputs": [],
   "source": [
    "gdp_count_country_missing_years = gdp_count_country_missing_years.reset_index(drop = True)"
   ]
  },
  {
   "cell_type": "code",
   "execution_count": null,
   "id": "e4aaef36-66f4-4d00-9797-f80bfa2c5814",
   "metadata": {},
   "outputs": [],
   "source": [
    "gdp_count_country_missing_years.count()"
   ]
  },
  {
   "cell_type": "code",
   "execution_count": null,
   "id": "592c3927-e766-4ec9-b821-7cf5ac8d619f",
   "metadata": {
    "scrolled": true
   },
   "outputs": [],
   "source": [
    "plt.hist(gdp_df[gdp_df.Year == 2020].GDP_Per_Capita);\n",
    "plt.ylabel('Capita');\n",
    "plt.xlabel('GDP');"
   ]
  },
  {
   "cell_type": "code",
   "execution_count": null,
   "id": "c6358a28-98da-4006-a907-cbdf5a4b56c8",
   "metadata": {},
   "outputs": [],
   "source": [
    "sns.kdeplot(gdp_df[gdp_df.Year == 2020].GDP_Per_Capita);\n",
    "plt.ylabel('Capita');\n",
    "plt.xlabel('GDP');"
   ]
  },
  {
   "cell_type": "code",
   "execution_count": null,
   "id": "8b18ffee-0369-4d49-9109-7e7d0bdf80a7",
   "metadata": {},
   "outputs": [],
   "source": [
    "sns.boxplot(x = gdp_df[gdp_df.Year == 2020].GDP_Per_Capita, y = gdp_df[gdp_df.Year == 2020].GDP_Per_Capita);\n",
    "plt.ylabel('Capita');\n",
    "plt.xlabel('GDP');"
   ]
  },
  {
   "cell_type": "code",
   "execution_count": null,
   "id": "fdf4f6cd-e5df-44b2-af8f-4d1e4218c103",
   "metadata": {},
   "outputs": [],
   "source": [
    "sns.violinplot(x = gdp_df[gdp_df.Year == 2020].GDP_Per_Capita, y = gdp_df[gdp_df.Year == 2020].GDP_Per_Capita);\n",
    "plt.ylabel('Capita');\n",
    "plt.xlabel('GDP');"
   ]
  },
  {
   "cell_type": "code",
   "execution_count": null,
   "id": "84adf550-b0f6-4b83-a0b4-49b9dc28b2a1",
   "metadata": {},
   "outputs": [],
   "source": [
    "gdp_df[gdp_df.Year == 2020].describe()"
   ]
  },
  {
   "cell_type": "markdown",
   "id": "0f861bec-bf6d-4932-8c8e-fa3fdc156ce7",
   "metadata": {},
   "source": [
    "What was the median GDP per capita value in 2020?\r\n",
    "13357.997573\r\n",
    "\r\n"
   ]
  },
  {
   "cell_type": "markdown",
   "id": "75b34403-63b7-48a9-bbf8-9f7868bf8302",
   "metadata": {},
   "source": [
    "\n",
    "\n",
    "\n",
    "10 . For this question, you're going to create some visualizations to compare GDP per capita values for the years 1990, 2000, 2010, and 2020. Start by subsetting your data to just these 4 years into a new DataFrame named gdp_decades. Using this, create the following 4 plots:\r\n",
    "\r\n",
    "A boxplot\r\n",
    "A barplot (check out the Barplot with Seaborn section: https://www.python-graph-gallery.com/barplot/#Seaborn)\r\n",
    "A scatterplot\r\n",
    "A scatterplot with a trend line overlaid (see this regplot example: https://www.python-graph-gallery.com/42-custom-linear-regression-fit-seaborn)\r\n",
    "Comment on what you observe has happened to GDP values over time and the relative strengths and weaknesses of each type of plot.\n",
    "\n",
    "\n"
   ]
  },
  {
   "cell_type": "code",
   "execution_count": null,
   "id": "1c4337bb-297a-487a-9198-24dcec4ab9c7",
   "metadata": {},
   "outputs": [],
   "source": [
    "list = [1990, 2000, 2010, 2020]\n",
    "gdp_decades = gdp_df[gdp_df.Year.isin(list)]"
   ]
  },
  {
   "cell_type": "code",
   "execution_count": null,
   "id": "58815cb4-35a8-4539-b9b1-e3ca64713c0e",
   "metadata": {},
   "outputs": [],
   "source": [
    "gdp_decades"
   ]
  },
  {
   "cell_type": "code",
   "execution_count": null,
   "id": "1a35a9d2-530c-436c-b9f5-487a11bffea2",
   "metadata": {},
   "outputs": [],
   "source": [
    "sns.boxplot( x=gdp_decades[\"Year\"], y=gdp_decades[\"GDP_Per_Capita\"] );\n"
   ]
  },
  {
   "cell_type": "code",
   "execution_count": null,
   "id": "2a8505be-437e-4c34-97dd-bcfb203ea6b3",
   "metadata": {},
   "outputs": [],
   "source": [
    "sns.barplot(x=gdp_decades[\"Year\"], y=gdp_decades[\"GDP_Per_Capita\"],  \n",
    "    estimator=sum, \n",
    "    ci=None, \n",
    "    color='#69b3a2');"
   ]
  },
  {
   "cell_type": "code",
   "execution_count": null,
   "id": "b38336d9-c475-434a-a188-ce7613ed266a",
   "metadata": {
    "scrolled": true
   },
   "outputs": [],
   "source": [
    "sns.regplot( x=gdp_decades[\"Year\"], y=gdp_decades[\"GDP_Per_Capita\"] );\n"
   ]
  },
  {
   "cell_type": "code",
   "execution_count": null,
   "id": "4cd63ae3-bc62-4c40-852a-6c2be6783e76",
   "metadata": {},
   "outputs": [],
   "source": [
    "sns.regplot( x=gdp_decades[\"Year\"], y=gdp_decades[\"GDP_Per_Capita\"],line_kws={\"color\": \"r\"}\n",
    "     );\n"
   ]
  },
  {
   "cell_type": "markdown",
   "id": "0d2cd3ae-d969-48c9-bfec-155b0b450c33",
   "metadata": {},
   "source": [
    "Comment on what you observe has happened to GDP values over time and the relative strengths and weaknesses of each type of plot.\n",
    "Over time the GDP Per Capita has grown. I believe this is best illustrated in the scatter and box plot. Both do a better job of showing us outliers than bar chart."
   ]
  },
  {
   "cell_type": "markdown",
   "id": "a19b6b12-7504-42a1-ba24-e9928eb4a6fb",
   "metadata": {},
   "source": [
    "10.Which country was the first to have a GDP per capita greater than $100,000?\n",
    "\n",
    "United Arab Emirates in 1990."
   ]
  },
  {
   "cell_type": "code",
   "execution_count": null,
   "id": "0aac69fb-a07a-4035-96e5-64f9899f7924",
   "metadata": {},
   "outputs": [],
   "source": [
    "gdp_df[gdp_df.GDP_Per_Capita > 100000].sort_values(by = 'Year').head(1)"
   ]
  },
  {
   "cell_type": "markdown",
   "id": "1813f473-1416-4c65-9412-3db6fe465028",
   "metadata": {},
   "source": [
    "Which country had the highest GDP per capita in 2020? Create a plot showing how this country's GDP per capita has changed over the timespan of the dataset."
   ]
  },
  {
   "cell_type": "code",
   "execution_count": null,
   "id": "69b16b20-df73-48dc-abd3-5fa3dbdf19f7",
   "metadata": {},
   "outputs": [],
   "source": [
    "gdp_df[gdp_df.Year == 2020].sort_values(by = 'GDP_Per_Capita', ascending = False)"
   ]
  },
  {
   "cell_type": "code",
   "execution_count": null,
   "id": "a65be6dd-a40c-4457-9a2e-63642dfc6d8c",
   "metadata": {},
   "outputs": [],
   "source": [
    "gdp_Luxembourg= gdp_df[gdp_df.Country == 'Luxembourg']"
   ]
  },
  {
   "cell_type": "code",
   "execution_count": null,
   "id": "34f24f5d-ea93-440e-98ef-a5ca7f623742",
   "metadata": {},
   "outputs": [],
   "source": [
    "plt.plot(gdp_Luxembourg[\"Year\"], gdp_Luxembourg[\"GDP_Per_Capita\"],linestyle='-', marker='o');"
   ]
  },
  {
   "cell_type": "markdown",
   "id": "26dc6853-4231-4dca-868b-6025130f4820",
   "metadata": {},
   "source": [
    "13. Which country had the lowest GDP per capita in 2020? Create a plot showing how this country's GDP per capita has changed over the timespan of the dataset. Bonus question: Is it true in general that coutries had a higher GDP per capita in 2020 than in 1990? Which countries had lower GDP per capita in 2020 than in 1990?"
   ]
  },
  {
   "cell_type": "code",
   "execution_count": null,
   "id": "cbda0d2a-339d-4cf8-b3a4-ffb488af3c0b",
   "metadata": {},
   "outputs": [],
   "source": [
    "gdp_df[gdp_df.Year == 2020].sort_values(by = 'GDP_Per_Capita', ascending = True)"
   ]
  },
  {
   "cell_type": "code",
   "execution_count": null,
   "id": "36714ec3-bcc1-419f-9bd6-cbeea24f5283",
   "metadata": {},
   "outputs": [],
   "source": [
    "gdp_Burundi = gdp_df[gdp_df.Country == 'Burundi']"
   ]
  },
  {
   "cell_type": "code",
   "execution_count": null,
   "id": "be331503-0c23-4827-9c8b-a93628b468fd",
   "metadata": {},
   "outputs": [],
   "source": [
    "plt.plot(gdp_Burundi[\"Year\"], gdp_Burundi[\"GDP_Per_Capita\"],linestyle='-', marker='o');"
   ]
  },
  {
   "cell_type": "markdown",
   "id": "6a5b6529-7fb2-4d77-9f77-fb1da007f617",
   "metadata": {},
   "source": [
    "14. Read in the internet use dataset into a DataFrame named internet_df. You will likely get errors when doing this. Check the arguments for the read_csv function to find ones that can help correct the errors (https://pandas.pydata.org/docs/reference/api/pandas.read_csv.html) Once you are able to read it in, take per a look at the top and bottom few rows to make sure that it has been read in correctly. Also, check the datatypes of the columns."
   ]
  },
  {
   "cell_type": "code",
   "execution_count": null,
   "id": "73a74684-5aa1-4e34-93aa-cb0c0a6141c7",
   "metadata": {},
   "outputs": [],
   "source": [
    "internet_df = pd.read_csv('../data/internet_use.csv', on_bad_lines='skip')"
   ]
  },
  {
   "cell_type": "code",
   "execution_count": null,
   "id": "4da90bc9-69a4-45af-b785-9515193c7096",
   "metadata": {},
   "outputs": [],
   "source": [
    "internet_df.head()"
   ]
  },
  {
   "cell_type": "code",
   "execution_count": null,
   "id": "f63fc0b5-d560-4f74-86ef-85574605d90d",
   "metadata": {},
   "outputs": [],
   "source": [
    "internet_df.tail()"
   ]
  },
  {
   "cell_type": "code",
   "execution_count": null,
   "id": "94e5eba4-000b-4fbd-bcbe-1c93bb34bd0e",
   "metadata": {},
   "outputs": [],
   "source": [
    "internet_df.info()"
   ]
  },
  {
   "cell_type": "code",
   "execution_count": null,
   "id": "9b2e59e7-76f7-4c03-9305-9cbe7bb70444",
   "metadata": {},
   "outputs": [],
   "source": [
    "internet_df = internet_df.drop(columns = ['Value Footnotes'])"
   ]
  },
  {
   "cell_type": "code",
   "execution_count": null,
   "id": "bd69deb7-a0b8-4fef-a9dc-eed7298155ef",
   "metadata": {},
   "outputs": [],
   "source": [
    "internet_df.columns = ['Country','Year','Internet_Users_Pct']"
   ]
  },
  {
   "cell_type": "code",
   "execution_count": null,
   "id": "0f7fdb24-96c1-4a35-9cf0-49c8434faa5e",
   "metadata": {},
   "outputs": [],
   "source": [
    "internet_df.Year.value_counts()"
   ]
  },
  {
   "cell_type": "code",
   "execution_count": null,
   "id": "3ff10eae-3038-46a6-80b3-3d9788c8f5c9",
   "metadata": {},
   "outputs": [],
   "source": [
    "internet_df.shape"
   ]
  },
  {
   "cell_type": "code",
   "execution_count": null,
   "id": "add4b332-0d08-439f-9aab-72adb1fa6f55",
   "metadata": {},
   "outputs": [],
   "source": [
    "internet_df[internet_df.Internet_Users_Pct > 0].sort_values(by = 'Year')"
   ]
  },
  {
   "cell_type": "markdown",
   "id": "3f188de2-e720-45e5-a6f1-830c6dc09301",
   "metadata": {},
   "source": [
    "17. What is the first year to have a non-zero internet users percentage value?\n",
    "\n",
    "1990"
   ]
  },
  {
   "cell_type": "code",
   "execution_count": null,
   "id": "d778d026-08f4-48f2-a178-2c676371d26f",
   "metadata": {},
   "outputs": [],
   "source": [
    "y_list = ['2014', '2000']\n",
    "vs_internet = internet_df[internet_df.Year.isin(y_list)]"
   ]
  },
  {
   "cell_type": "code",
   "execution_count": null,
   "id": "97f0c61f-0334-41f9-95d4-22c2da13f484",
   "metadata": {},
   "outputs": [],
   "source": [
    "vs_internet.Year.value_counts()"
   ]
  },
  {
   "cell_type": "code",
   "execution_count": null,
   "id": "8b8178be-e04c-431a-b8a9-06503ed236ff",
   "metadata": {},
   "outputs": [],
   "source": [
    "sns.boxplot( x=vs_internet[\"Year\"], y=vs_internet[\"Internet_Users_Pct\"] );\n"
   ]
  },
  {
   "cell_type": "markdown",
   "id": "86fdb99d-7f1b-44c6-a19b-0908cef569e4",
   "metadata": {},
   "source": [
    "19. For how many countries was the percentage of internet users below 5% in 2014\n",
    "227"
   ]
  },
  {
   "cell_type": "code",
   "execution_count": null,
   "id": "0decf5e2-71c7-4397-a55c-42ae64c6cc77",
   "metadata": {},
   "outputs": [],
   "source": [
    "below_5 = internet_df[internet_df.Internet_Users_Pct < 5]"
   ]
  },
  {
   "cell_type": "code",
   "execution_count": null,
   "id": "0cb72c76-4fd8-4587-98c4-0f67e4594128",
   "metadata": {},
   "outputs": [],
   "source": [
    "below_5.Country.value_counts().shape"
   ]
  },
  {
   "cell_type": "code",
   "execution_count": null,
   "id": "9157373f-32cd-4c67-b7f3-268fa37565ec",
   "metadata": {},
   "outputs": [],
   "source": []
  }
 ],
 "metadata": {
  "kernelspec": {
   "display_name": "Python 3 (ipykernel)",
   "language": "python",
   "name": "python3"
  },
  "language_info": {
   "codemirror_mode": {
    "name": "ipython",
    "version": 3
   },
   "file_extension": ".py",
   "mimetype": "text/x-python",
   "name": "python",
   "nbconvert_exporter": "python",
   "pygments_lexer": "ipython3",
   "version": "3.11.7"
  }
 },
 "nbformat": 4,
 "nbformat_minor": 5
}
